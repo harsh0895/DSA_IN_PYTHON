{
 "cells": [
  {
   "cell_type": "code",
   "execution_count": null,
   "metadata": {},
   "outputs": [],
   "source": [
    "# NUMPY MASTER CLASS FOR DATA SCIENCE:-"
   ]
  },
  {
   "cell_type": "code",
   "execution_count": null,
   "metadata": {},
   "outputs": [],
   "source": [
    "'''\n",
    "1. why array doesn't contains , between the elements and list does?\n",
    "List: Designed for general-purpose storage and manipulation of heterogeneous data (like numbers, strings, etc.), and Python prints it with commas to indicate a collection of separate items.\n",
    "Array: NumPy arrays are optimized for numerical operations, and when printed, they are displayed without commas for simplicity and mathematical consistency.\n",
    "'''"
   ]
  },
  {
   "cell_type": "code",
   "execution_count": 11,
   "metadata": {},
   "outputs": [
    {
     "name": "stdout",
     "output_type": "stream",
     "text": [
      "<class 'list'>\n",
      "[1 2 3 4 5]\n",
      "[1, 2, 3, 4, 5]\n",
      "<class 'numpy.ndarray'>\n"
     ]
    },
    {
     "data": {
      "text/plain": [
       "(5,)"
      ]
     },
     "execution_count": 11,
     "metadata": {},
     "output_type": "execute_result"
    }
   ],
   "source": [
    "import numpy as np\n",
    "\n",
    "lst = [1,2,3,4,5]\n",
    "print(type(lst)) # <class 'list'>\n",
    "arr = np.array(lst)\n",
    "print(arr) # [1 2 3 4 5]\n",
    "print(lst) # [1, 2, 3, 4, 5]\n",
    "print(type(arr)) # <class 'numpy.ndarray'>\n",
    "arr.shape # --> it's basically definer the shape of array is one-dimension or not\n"
   ]
  },
  {
   "cell_type": "code",
   "execution_count": 14,
   "metadata": {},
   "outputs": [
    {
     "data": {
      "text/plain": [
       "array([[1, 2],\n",
       "       [3, 4],\n",
       "       [5, 6]])"
      ]
     },
     "execution_count": 14,
     "metadata": {},
     "output_type": "execute_result"
    }
   ],
   "source": [
    "arr1 = np.array([[1,2,3],[4,5,6]])\n",
    "arr1.shape # --> (2, 3) contains (2rows, 3columns)\n",
    "\n",
    "# change shape only with total number of elements which contains the array.\n",
    "arr1.reshape(3, 2)\n",
    "arr1.reshape(1, 6)\n",
    "arr1.reshape(6, 1)\n",
    "arr1.reshape(2, 3)\n"
   ]
  },
  {
   "cell_type": "code",
   "execution_count": 25,
   "metadata": {},
   "outputs": [
    {
     "name": "stdout",
     "output_type": "stream",
     "text": [
      "[1 2 3 4]\n"
     ]
    },
    {
     "data": {
      "text/plain": [
       "dtype('int32')"
      ]
     },
     "execution_count": 25,
     "metadata": {},
     "output_type": "execute_result"
    }
   ],
   "source": [
    "# tuple\n",
    "tp = np.array((1,2,3,4))\n",
    "print(tp)\n",
    "tp.dtype"
   ]
  },
  {
   "cell_type": "code",
   "execution_count": 24,
   "metadata": {},
   "outputs": [
    {
     "name": "stdout",
     "output_type": "stream",
     "text": [
      "{'a': 1, 'b': 2, 'c': 3}\n",
      "<class 'dict'>\n",
      "[1 2 3]\n",
      "['a' 'b' 'c']\n",
      "[['a' '1']\n",
      " ['b' '2']\n",
      " ['c' '3']]\n",
      "<class 'numpy.ndarray'>\n"
     ]
    }
   ],
   "source": [
    "# change dictionary into the array\n",
    "dic = {\n",
    "    'a': 1,\n",
    "    'b': 2,\n",
    "    'c': 3\n",
    "}\n",
    "print(dic)\n",
    "print(type(dic))\n",
    "\n",
    "# dit = np.array(dic)\n",
    "# print(dit)\n",
    "# print(type(dit))\n",
    "\n",
    "# convert dictionary values into the array \n",
    "value_arr = np.array(list(dic.values()))\n",
    "# convert dictionary keys into the array \n",
    "key_arr = np.array(list(dic.keys()))\n",
    "print(value_arr)\n",
    "print(key_arr)\n",
    "\n",
    "# convert dictionary keys and values into the two-dimenssion array\n",
    "dic_arr = np.array(list(dic.items()))\n",
    "print(dic_arr)\n",
    "print(type(dic_arr))"
   ]
  },
  {
   "cell_type": "code",
   "execution_count": 37,
   "metadata": {},
   "outputs": [
    {
     "name": "stdout",
     "output_type": "stream",
     "text": [
      "[1 3 5 7 9]\n"
     ]
    },
    {
     "data": {
      "text/plain": [
       "array([[1, 3, 5, 7, 9]])"
      ]
     },
     "execution_count": 37,
     "metadata": {},
     "output_type": "execute_result"
    }
   ],
   "source": [
    "# how to create an array from scratch\n",
    "\n",
    "np.arange(1, 10) # array([1, 2, 3, 4, 5, 6, 7, 8, 9])\n",
    "a1 = np.arange(1, 10, 2) # array([1, 3, 5, 7, 9])\n",
    "print(a1)\n",
    "\n",
    "a1.shape\n",
    "a2 = a1.reshape(5, 1)\n",
    "a2.reshape(1, 5) # array([[1, 3, 5, 7, 9]])\n",
    "\n"
   ]
  },
  {
   "cell_type": "code",
   "execution_count": 38,
   "metadata": {},
   "outputs": [
    {
     "name": "stdout",
     "output_type": "stream",
     "text": [
      "[50 48 46 44 42 40 38 36 34 32 30 28 26 24 22 20 18 16 14 12 10  8  6  4\n",
      "  2]\n"
     ]
    },
    {
     "data": {
      "text/plain": [
       "array([ 1,  2,  3,  4,  5,  6,  7,  8,  9, 10])"
      ]
     },
     "execution_count": 38,
     "metadata": {},
     "output_type": "execute_result"
    }
   ],
   "source": [
    "# create an array in the reverse order using arange() method\n",
    "rev = np.arange(50, 1, -2)\n",
    "print(rev) # [50]\n"
   ]
  },
  {
   "cell_type": "code",
   "execution_count": null,
   "metadata": {},
   "outputs": [],
   "source": []
  }
 ],
 "metadata": {
  "kernelspec": {
   "display_name": "Python 3",
   "language": "python",
   "name": "python3"
  },
  "language_info": {
   "codemirror_mode": {
    "name": "ipython",
    "version": 3
   },
   "file_extension": ".py",
   "mimetype": "text/x-python",
   "name": "python",
   "nbconvert_exporter": "python",
   "pygments_lexer": "ipython3",
   "version": "3.11.5"
  }
 },
 "nbformat": 4,
 "nbformat_minor": 2
}
