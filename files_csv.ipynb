{
 "cells": [
  {
   "cell_type": "code",
   "execution_count": null,
   "metadata": {},
   "outputs": [],
   "source": [
    "# NUMPY MASTER CLASS FOR DATA SCIENCE:-"
   ]
  },
  {
   "cell_type": "code",
   "execution_count": null,
   "metadata": {},
   "outputs": [],
   "source": [
    "'''\n",
    "1. why array doesn't contains , between the elements and list does?\n",
    "List: Designed for general-purpose storage and manipulation of heterogeneous data (like numbers, strings, etc.), and Python prints it with commas to indicate a collection of separate items.\n",
    "Array: NumPy arrays are optimized for numerical operations, and when printed, they are displayed without commas for simplicity and mathematical consistency.\n",
    "'''"
   ]
  },
  {
   "cell_type": "code",
   "execution_count": 2,
   "metadata": {},
   "outputs": [
    {
     "name": "stdout",
     "output_type": "stream",
     "text": [
      "<class 'list'>\n",
      "[1 2 3 4 5]\n",
      "[1, 2, 3, 4, 5]\n",
      "<class 'numpy.ndarray'>\n"
     ]
    },
    {
     "data": {
      "text/plain": [
       "(5,)"
      ]
     },
     "execution_count": 2,
     "metadata": {},
     "output_type": "execute_result"
    }
   ],
   "source": [
    "import numpy as np\n",
    "\n",
    "lst = [1,2,3,4,5]\n",
    "print(type(lst)) # <class 'list'>\n",
    "arr = np.array(lst)\n",
    "print(arr) # [1 2 3 4 5]\n",
    "print(lst) # [1, 2, 3, 4, 5]\n",
    "print(type(arr)) # <class 'numpy.ndarray'>\n",
    "arr.shape # --> it's basically definer the shape of array is one-dimension or not\n"
   ]
  },
  {
   "cell_type": "code",
   "execution_count": 14,
   "metadata": {},
   "outputs": [
    {
     "data": {
      "text/plain": [
       "array([[1, 2],\n",
       "       [3, 4],\n",
       "       [5, 6]])"
      ]
     },
     "execution_count": 14,
     "metadata": {},
     "output_type": "execute_result"
    }
   ],
   "source": [
    "arr1 = np.array([[1,2,3],[4,5,6]])\n",
    "arr1.shape # --> (2, 3) contains (2rows, 3columns)\n",
    "\n",
    "# change shape only with total number of elements which contains the array.\n",
    "arr1.reshape(3, 2)\n",
    "arr1.reshape(1, 6)\n",
    "arr1.reshape(6, 1)\n",
    "arr1.reshape(2, 3)\n"
   ]
  },
  {
   "cell_type": "code",
   "execution_count": 25,
   "metadata": {},
   "outputs": [
    {
     "name": "stdout",
     "output_type": "stream",
     "text": [
      "[1 2 3 4]\n"
     ]
    },
    {
     "data": {
      "text/plain": [
       "dtype('int32')"
      ]
     },
     "execution_count": 25,
     "metadata": {},
     "output_type": "execute_result"
    }
   ],
   "source": [
    "# tuple\n",
    "tp = np.array((1,2,3,4))\n",
    "print(tp)\n",
    "tp.dtype"
   ]
  },
  {
   "cell_type": "code",
   "execution_count": 24,
   "metadata": {},
   "outputs": [
    {
     "name": "stdout",
     "output_type": "stream",
     "text": [
      "{'a': 1, 'b': 2, 'c': 3}\n",
      "<class 'dict'>\n",
      "[1 2 3]\n",
      "['a' 'b' 'c']\n",
      "[['a' '1']\n",
      " ['b' '2']\n",
      " ['c' '3']]\n",
      "<class 'numpy.ndarray'>\n"
     ]
    }
   ],
   "source": [
    "# change dictionary into the array\n",
    "dic = {\n",
    "    'a': 1,\n",
    "    'b': 2,\n",
    "    'c': 3\n",
    "}\n",
    "print(dic)\n",
    "print(type(dic))\n",
    "\n",
    "# dit = np.array(dic)\n",
    "# print(dit)\n",
    "# print(type(dit))\n",
    "\n",
    "# convert dictionary values into the array \n",
    "value_arr = np.array(list(dic.values()))\n",
    "# convert dictionary keys into the array \n",
    "key_arr = np.array(list(dic.keys()))\n",
    "print(value_arr)\n",
    "print(key_arr)\n",
    "\n",
    "# convert dictionary keys and values into the two-dimenssion array\n",
    "dic_arr = np.array(list(dic.items()))\n",
    "print(dic_arr)\n",
    "print(type(dic_arr))"
   ]
  },
  {
   "cell_type": "code",
   "execution_count": 37,
   "metadata": {},
   "outputs": [
    {
     "name": "stdout",
     "output_type": "stream",
     "text": [
      "[1 3 5 7 9]\n"
     ]
    },
    {
     "data": {
      "text/plain": [
       "array([[1, 3, 5, 7, 9]])"
      ]
     },
     "execution_count": 37,
     "metadata": {},
     "output_type": "execute_result"
    }
   ],
   "source": [
    "# how to create an array from scratch\n",
    "\n",
    "np.arange(1, 10) # array([1, 2, 3, 4, 5, 6, 7, 8, 9])\n",
    "a1 = np.arange(1, 10, 2) # array([1, 3, 5, 7, 9])\n",
    "print(a1) # [1 3 5 7 9]\n",
    "\n",
    "a1.shape\n",
    "a2 = a1.reshape(5, 1)\n",
    "a2.reshape(1, 5) # array([[1, 3, 5, 7, 9]])\n",
    "\n"
   ]
  },
  {
   "cell_type": "code",
   "execution_count": 3,
   "metadata": {},
   "outputs": [
    {
     "name": "stdout",
     "output_type": "stream",
     "text": [
      "[50 48 46 44 42 40 38 36 34 32 30 28 26 24 22 20 18 16 14 12 10  8  6  4\n",
      "  2]\n"
     ]
    }
   ],
   "source": [
    "# create an array in the reverse order using arange() method\n",
    "rev = np.arange(50, 1, -2)\n",
    "print(rev) # [50 48 46 44 42 40 38 36 34 .... 2]\n"
   ]
  },
  {
   "cell_type": "code",
   "execution_count": 6,
   "metadata": {},
   "outputs": [
    {
     "data": {
      "text/plain": [
       "array([[ 1.        ,  1.48717949,  1.97435897,  2.46153846,  2.94871795,\n",
       "         3.43589744,  3.92307692,  4.41025641,  4.8974359 ,  5.38461538,\n",
       "         5.87179487,  6.35897436,  6.84615385,  7.33333333,  7.82051282,\n",
       "         8.30769231,  8.79487179,  9.28205128,  9.76923077, 10.25641026],\n",
       "       [10.74358974, 11.23076923, 11.71794872, 12.20512821, 12.69230769,\n",
       "        13.17948718, 13.66666667, 14.15384615, 14.64102564, 15.12820513,\n",
       "        15.61538462, 16.1025641 , 16.58974359, 17.07692308, 17.56410256,\n",
       "        18.05128205, 18.53846154, 19.02564103, 19.51282051, 20.        ]])"
      ]
     },
     "execution_count": 6,
     "metadata": {},
     "output_type": "execute_result"
    }
   ],
   "source": [
    "# create an equaly space elements of array\n",
    "\n",
    "np.linspace(1, 20, 40).reshape(2, 20)"
   ]
  },
  {
   "cell_type": "code",
   "execution_count": 9,
   "metadata": {},
   "outputs": [
    {
     "name": "stdout",
     "output_type": "stream",
     "text": [
      "[[0. 0.]\n",
      " [0. 0.]\n",
      " [0. 0.]]\n",
      "[[1. 1.]\n",
      " [1. 1.]]\n"
     ]
    }
   ],
   "source": [
    "zeros = np.zeros((3,2))\n",
    "print(zeros) \n",
    "np.zeros(5) # array([0., 0., 0., 0., 0.]) numpy array gives us value in the floating point by default\n",
    "\n",
    "one = np.ones((2, 2))\n",
    "print(one)"
   ]
  },
  {
   "cell_type": "code",
   "execution_count": 12,
   "metadata": {},
   "outputs": [
    {
     "data": {
      "text/plain": [
       "array([[1., 0., 0.],\n",
       "       [0., 1., 0.],\n",
       "       [0., 0., 1.]])"
      ]
     },
     "execution_count": 12,
     "metadata": {},
     "output_type": "execute_result"
    }
   ],
   "source": [
    "# create identity matrix\n",
    "np.eye(2)\n",
    "np.identity(3) # both are same for generating the identity matrix"
   ]
  },
  {
   "cell_type": "code",
   "execution_count": 17,
   "metadata": {},
   "outputs": [
    {
     "name": "stdout",
     "output_type": "stream",
     "text": [
      "Random number generation (uniform distribution)\n",
      "[[0.40173745 0.30977522 0.53676239]\n",
      " [0.2558723  0.99553576 0.31978639]\n",
      " [0.21719417 0.73545493 0.819386  ]]\n",
      "[[0.42441998 0.57533807 0.09496236]\n",
      " [0.52969985 0.1979053  0.27641989]\n",
      " [0.2425783  0.61212602 0.70237231]]\n",
      "[[ 0.77107087  1.18512235 -1.07889231]\n",
      " [-0.12654764 -0.50036471  1.47803161]\n",
      " [-2.1429077  -1.57802458 -0.3092241 ]]\n"
     ]
    }
   ],
   "source": [
    "print('Random number generation (uniform distribution)')\n",
    "\n",
    "\n",
    "# Generate a 3x3 matrix with uniform distribution between 0 and 1\n",
    "uniform_matrix = np.random.uniform(0, 1, (3, 3))\n",
    "print(uniform_matrix)\n",
    "matrix2 = np.random.rand(3, 3)\n",
    "print(matrix2)\n",
    "\n",
    "# Generate a 3x3 matrix with non-uniform distribution (normal distribution) with mean = 0 qne standard deviation = 1\n",
    "non_uniform_matrix = np.random.normal(0, 1, (3, 3))\n",
    "print(non_uniform_matrix)\n",
    "\n"
   ]
  },
  {
   "cell_type": "code",
   "execution_count": 19,
   "metadata": {},
   "outputs": [
    {
     "name": "stdout",
     "output_type": "stream",
     "text": [
      "2\n"
     ]
    },
    {
     "data": {
      "text/plain": [
       "array([20, 93, 50, 49, 84, 13, 30, 87, 98, 98,  6, 45, 98, 62, 77, 23, 79,\n",
       "       22, 99, 88])"
      ]
     },
     "execution_count": 19,
     "metadata": {},
     "output_type": "execute_result"
    }
   ],
   "source": [
    "# create a random number between 1 to 100\n",
    "ran = np.random.randint(1, 20)\n",
    "print(ran)\n",
    "np.random.randint(1, 100, 20) # (start, end, total_random_number)"
   ]
  },
  {
   "cell_type": "code",
   "execution_count": 24,
   "metadata": {},
   "outputs": [
    {
     "name": "stdout",
     "output_type": "stream",
     "text": [
      "[ 1  2  3  4  5  6  7  8  9 10]\n",
      "[ 2  3  4  5  6  7  8  9 10]\n",
      "[2 3 4 5 6]\n",
      "[2 3 4]\n",
      "[]\n",
      "[10  9  8  7  6  5]\n"
     ]
    }
   ],
   "source": [
    "ar = np.arange(1, 11)\n",
    "print(ar)\n",
    "# slicing the array elements\n",
    "print(ar[1: ])\n",
    "print(ar[1: 6])\n",
    "print(ar[1: 4])\n",
    "print(ar[-1: 3]) # [] empty array\n",
    "print(ar[-1: 3: -1])"
   ]
  },
  {
   "cell_type": "code",
   "execution_count": 32,
   "metadata": {},
   "outputs": [
    {
     "name": "stdout",
     "output_type": "stream",
     "text": [
      "[[66 27 85 64]\n",
      " [66 50 16 73]\n",
      " [99 64 92 78]\n",
      " [89 31 20 80]\n",
      " [76 67 94  1]]\n"
     ]
    },
    {
     "data": {
      "text/plain": [
       "array([[31, 20, 80],\n",
       "       [67, 94,  1]])"
      ]
     },
     "execution_count": 32,
     "metadata": {},
     "output_type": "execute_result"
    }
   ],
   "source": [
    "arrr = np.random.randint(1, 100, 20).reshape(5,4)\n",
    "print(arrr)\n",
    "\n",
    "arrr[0:3, 0:3]\n",
    "arrr[3: , 1: ]\n"
   ]
  },
  {
   "cell_type": "code",
   "execution_count": 33,
   "metadata": {},
   "outputs": [
    {
     "name": "stdout",
     "output_type": "stream",
     "text": [
      "[[15 73  9]\n",
      " [67 21  7]\n",
      " [81 38 99]]\n",
      "[[51 84 53]\n",
      " [43 28 49]\n",
      " [99 51 69]]\n"
     ]
    }
   ],
   "source": [
    "# universal functions\n",
    "\n",
    "a = np.random.randint(1, 100, (3, 3))\n",
    "b = np.random.randint(20, 100, (3, 3))\n",
    "print(a)\n",
    "print(b)\n"
   ]
  },
  {
   "cell_type": "code",
   "execution_count": 34,
   "metadata": {},
   "outputs": [
    {
     "data": {
      "text/plain": [
       "array([[ 66, 157,  62],\n",
       "       [110,  49,  56],\n",
       "       [180,  89, 168]])"
      ]
     },
     "execution_count": 34,
     "metadata": {},
     "output_type": "execute_result"
    }
   ],
   "source": [
    "a + b"
   ]
  },
  {
   "cell_type": "code",
   "execution_count": 35,
   "metadata": {},
   "outputs": [
    {
     "data": {
      "text/plain": [
       "array([[ 765, 6132,  477],\n",
       "       [2881,  588,  343],\n",
       "       [8019, 1938, 6831]])"
      ]
     },
     "execution_count": 35,
     "metadata": {},
     "output_type": "execute_result"
    }
   ],
   "source": [
    "a * b"
   ]
  },
  {
   "cell_type": "code",
   "execution_count": 36,
   "metadata": {},
   "outputs": [
    {
     "data": {
      "text/plain": [
       "array([[0.29411765, 0.86904762, 0.16981132],\n",
       "       [1.55813953, 0.75      , 0.14285714],\n",
       "       [0.81818182, 0.74509804, 1.43478261]])"
      ]
     },
     "execution_count": 36,
     "metadata": {},
     "output_type": "execute_result"
    }
   ],
   "source": [
    "a / b"
   ]
  },
  {
   "cell_type": "code",
   "execution_count": 38,
   "metadata": {},
   "outputs": [
    {
     "data": {
      "text/plain": [
       "array([[3.87298335, 8.54400375, 3.        ],\n",
       "       [8.18535277, 4.58257569, 2.64575131],\n",
       "       [9.        , 6.164414  , 9.94987437]])"
      ]
     },
     "execution_count": 38,
     "metadata": {},
     "output_type": "execute_result"
    }
   ],
   "source": [
    "# inbuilt functions:-\n",
    "\n",
    "np.sqrt(a)"
   ]
  },
  {
   "cell_type": "code",
   "execution_count": 41,
   "metadata": {},
   "outputs": [
    {
     "name": "stdout",
     "output_type": "stream",
     "text": [
      "[ 1  2  3  4  5  6  7  8  9 10]\n",
      "[   1    2 1000 1000 1000 1000 1000 1000 1000 1000]\n"
     ]
    }
   ],
   "source": [
    "# brodcasting\n",
    "\n",
    "c = np.arange(1, 11)\n",
    "print(c)\n",
    "\n",
    "c[2: ] = 1000\n",
    "print(c)\n"
   ]
  },
  {
   "cell_type": "code",
   "execution_count": null,
   "metadata": {},
   "outputs": [],
   "source": []
  }
 ],
 "metadata": {
  "kernelspec": {
   "display_name": "Python 3",
   "language": "python",
   "name": "python3"
  },
  "language_info": {
   "codemirror_mode": {
    "name": "ipython",
    "version": 3
   },
   "file_extension": ".py",
   "mimetype": "text/x-python",
   "name": "python",
   "nbconvert_exporter": "python",
   "pygments_lexer": "ipython3",
   "version": "3.11.5"
  }
 },
 "nbformat": 4,
 "nbformat_minor": 2
}
