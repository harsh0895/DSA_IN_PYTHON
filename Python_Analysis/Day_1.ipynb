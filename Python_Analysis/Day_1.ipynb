{
 "cells": [
  {
   "cell_type": "markdown",
   "metadata": {},
   "source": [
    "Fundamentals of Python"
   ]
  },
  {
   "cell_type": "markdown",
   "metadata": {},
   "source": [
    "Topics:-\n",
    "1. Basics of python.\n",
    "2. variables in python.\n",
    "3. data types in python.\n",
    "4. single line and multi line comments.\n",
    "5. How to take input from the user.\n",
    "5. Arihtmetic operations."
   ]
  },
  {
   "cell_type": "code",
   "execution_count": 3,
   "metadata": {},
   "outputs": [
    {
     "name": "stdout",
     "output_type": "stream",
     "text": [
      "hello world\n"
     ]
    }
   ],
   "source": [
    "print(\"hello world\")"
   ]
  },
  {
   "cell_type": "code",
   "execution_count": 4,
   "metadata": {},
   "outputs": [
    {
     "name": "stdout",
     "output_type": "stream",
     "text": [
      "the value of a is: 1\n"
     ]
    }
   ],
   "source": [
    "a = 1\n",
    "print(f'the value of a is: {a}')"
   ]
  },
  {
   "cell_type": "code",
   "execution_count": 10,
   "metadata": {},
   "outputs": [
    {
     "name": "stdout",
     "output_type": "stream",
     "text": [
      "my name is badfkjldfsn\n",
      "<class 'str'>\n",
      "my number is 456\n",
      "<class 'int'>\n"
     ]
    }
   ],
   "source": [
    "try:\n",
    "    name = input('enter your name: ')\n",
    "    print(f'my name is {name}')\n",
    "    print(type(name))\n",
    "\n",
    "    number = int(input('enter your name: '))\n",
    "    print(f'my number is {number}')\n",
    "    print(type(number))\n",
    "except ValueError:\n",
    "    print('pls enter a valid input!')\n"
   ]
  },
  {
   "cell_type": "code",
   "execution_count": 13,
   "metadata": {},
   "outputs": [
    {
     "name": "stdout",
     "output_type": "stream",
     "text": [
      "15\n",
      "5\n",
      "50\n",
      "100000\n",
      "2\n",
      "0\n"
     ]
    }
   ],
   "source": [
    "n1 = 10\n",
    "n2 = 5\n",
    "\n",
    "print(n1 + n2)\n",
    "print(n1 - n2)\n",
    "print(n1 * n2)\n",
    "print(n1 ** n2)\n",
    "print(n1 // n2)\n",
    "print(n1 % n2)"
   ]
  },
  {
   "cell_type": "code",
   "execution_count": null,
   "metadata": {},
   "outputs": [],
   "source": []
  }
 ],
 "metadata": {
  "kernelspec": {
   "display_name": "Python 3",
   "language": "python",
   "name": "python3"
  },
  "language_info": {
   "codemirror_mode": {
    "name": "ipython",
    "version": 3
   },
   "file_extension": ".py",
   "mimetype": "text/x-python",
   "name": "python",
   "nbconvert_exporter": "python",
   "pygments_lexer": "ipython3",
   "version": "3.11.9"
  }
 },
 "nbformat": 4,
 "nbformat_minor": 2
}
