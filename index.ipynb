{
 "cells": [
  {
   "cell_type": "code",
   "execution_count": null,
   "metadata": {},
   "outputs": [],
   "source": [
    "# 1. what is the purpose of the indentation in python:-\n",
    "# the purpose of the identation is to define the scope of code blocks."
   ]
  },
  {
   "cell_type": "code",
   "execution_count": 1,
   "metadata": {},
   "outputs": [
    {
     "name": "stdout",
     "output_type": "stream",
     "text": [
      "Your target element index is: 7\n"
     ]
    }
   ],
   "source": [
    "# Write a program to find the target element in the infinite sorted list.\n",
    "def find_range_of_array(arr, target):\n",
    "    start = 0\n",
    "    end = 1\n",
    "    while arr[end] <= target:\n",
    "        new_start = end + 1\n",
    "        if arr[end] < target:\n",
    "            end = end + (end - start + 1) * 2  # if the target not found it will double the length of the array!\n",
    "            start = new_start\n",
    "    return binary_search(arr, target, start, end)\n",
    "\n",
    "def binary_search(arr, target, start, end):\n",
    "    while start <= end:\n",
    "        mid = start + (end - start) // 2\n",
    "        if arr[mid] == target:\n",
    "            return mid\n",
    "        elif arr[mid] < target:\n",
    "            start = mid + 1\n",
    "        else:\n",
    "            end = mid - 1\n",
    "    return -1\n",
    "\n",
    "arr = [1, 2, 5, 7, 8, 10, 12, 13, 15, 17, 19, 21, 23, 25, 27, 30]\n",
    "target = int(input(\"Enter your target element: \"))\n",
    "ans = find_range_of_array(arr, target)\n",
    "print(\"Your target element index is:\", ans)\n",
    " "
   ]
  }
 ],
 "metadata": {
  "kernelspec": {
   "display_name": "Python 3",
   "language": "python",
   "name": "python3"
  },
  "language_info": {
   "codemirror_mode": {
    "name": "ipython",
    "version": 3
   },
   "file_extension": ".py",
   "mimetype": "text/x-python",
   "name": "python",
   "nbconvert_exporter": "python",
   "pygments_lexer": "ipython3",
   "version": "3.11.5"
  }
 },
 "nbformat": 4,
 "nbformat_minor": 2
}
