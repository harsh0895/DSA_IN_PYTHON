{
 "cells": [
  {
   "cell_type": "code",
   "execution_count": null,
   "metadata": {},
   "outputs": [],
   "source": [
    "# 1. what is the purpose of the indentation in python:-\n",
    "# the purpose of the identation is to define the scope of code blocks."
   ]
  },
  {
   "cell_type": "code",
   "execution_count": 7,
   "metadata": {},
   "outputs": [
    {
     "name": "stdout",
     "output_type": "stream",
     "text": [
      "Your target element index is: 6\n"
     ]
    }
   ],
   "source": [
    "# Write a program to find the target element in the infinite sorted list.\n",
    "def find_range_of_array(arr, target):\n",
    "    start = 0\n",
    "    end = 1\n",
    "    while arr[end] <= target:\n",
    "        new_start = end + 1\n",
    "        if arr[end] < target:\n",
    "            end = end + (end - start + 1) * 2  # if the target not found it will double the length of the array!\n",
    "            start = new_start\n",
    "    return binary_search(arr, target, start, end)\n",
    "\n",
    "def binary_search(arr, target, start, end):\n",
    "    while start <= end:\n",
    "        mid = start + (end - start) // 2\n",
    "        if arr[mid] == target:\n",
    "            return mid\n",
    "        elif arr[mid] < target:\n",
    "            start = mid + 1\n",
    "        else:\n",
    "            end = mid - 1\n",
    "    return -1\n",
    "\n",
    "arr = [1, 2, 5, 7, 8, 10, 12, 13, 15, 17, 19, 21, 23, 25, 27, 30]\n",
    "target = int(input(\"Enter your target element: \"))\n",
    "ans = find_range_of_array(arr, target)\n",
    "print(\"Your target element index is:\", ans)\n",
    " "
   ]
  },
  {
   "cell_type": "code",
   "execution_count": 8,
   "metadata": {},
   "outputs": [
    {
     "name": "stdout",
     "output_type": "stream",
     "text": [
      "Your target element index is: 7\n"
     ]
    }
   ],
   "source": [
    "def find_pos(arr, target):\n",
    "    #Initializes the low and high indices\n",
    "    left = 0\n",
    "    right = 1\n",
    " \n",
    "    # Iterate over low and high indices\n",
    "    while target > arr[right]:\n",
    "        left = right\n",
    "        right = 2 * right\n",
    " \n",
    "    # Iterate between low and high indices\n",
    "    while left <= right:\n",
    "        mid = (left + right) // 2\n",
    "        if arr[mid] == target:\n",
    "            return mid\n",
    "        elif arr[mid] < target:\n",
    "            left = mid + 1\n",
    "        else:\n",
    "            right = mid - 1\n",
    " \n",
    "    return -1  #to indicate the absence of element\n",
    " \n",
    " \n",
    "# Example\n",
    "list1 = [1, 2, 5, 7, 8, 10, 12, 13, 15, 17, 19, 21, 23, 25, 27, 30]\n",
    "target = 13\n",
    " \n",
    "index = find_pos(list1, target)\n",
    " \n",
    "if index != -1:\n",
    "  print(\"Your target element index is:\", index)\n",
    "else:\n",
    "  print(\"Element not found\")"
   ]
  },
  {
   "cell_type": "code",
   "execution_count": 18,
   "metadata": {},
   "outputs": [
    {
     "name": "stdout",
     "output_type": "stream",
     "text": [
      "[8, 45, 11, 12, 14, 23, 89, 45, 78]\n"
     ]
    }
   ],
   "source": [
    "'''\n",
    "sample_list = [11, 45, 8, 23, 14, 12, 78, 45, 89] \n",
    "Slice list into three equal parts and reverse each part. Combine the reverse list to make one final list.\n",
    " \n",
    "Explanation:  \n",
    "part1: [11,45,8] so after reversing it becomes [8,45,11]\n",
    "part2: [23,14,12] so after reversing it becomes [12,14,23]\n",
    "part3: [78,45,89] so after reversing it becomes [89,45,78]\n",
    "final_list = [8,45,11,12,14,23,89,45,78]\n",
    " '''\n",
    "\n",
    "sample_list = [11, 45, 8, 23, 14, 12, 78, 45, 89] \n",
    "\n",
    "n = len(sample_list) // 3\n",
    "\n",
    "# Slice the list into three parts and reverse each part and you can also apply the reverse() method instead of [::-1] \n",
    "part1 = sample_list[0 : n][::-1]\n",
    "part2 = sample_list[n : 2*n][::-1]\n",
    "part3 = sample_list[2*n : ][::-1]\n",
    "\n",
    "# Combine the reversed parts into one final list\n",
    "final_list = part1 + part2 + part3\n",
    "print(final_list)\n",
    "\n"
   ]
  },
  {
   "cell_type": "code",
   "execution_count": 12,
   "metadata": {},
   "outputs": [
    {
     "name": "stdout",
     "output_type": "stream",
     "text": [
      "153 is Armstrong number!\n"
     ]
    }
   ],
   "source": [
    "# check a given number is Armstrong number or not!\n",
    "\n",
    "def count_digits(num):\n",
    "    count = 0\n",
    "    while num != 0:\n",
    "        num = num // 10\n",
    "        count = count + 1\n",
    "\n",
    "    return count\n",
    "\n",
    "\n",
    "def check_Armstrong(num, no_of_digits):\n",
    "    ans = 0\n",
    "    while num != 0:\n",
    "        rem = num % 10\n",
    "        power = rem ** no_of_digits\n",
    "        ans = ans + power\n",
    "        num = num // 10\n",
    "    return ans\n",
    "\n",
    "\n",
    "num = 153\n",
    "no_of_digits = count_digits(num)\n",
    "result = check_Armstrong(num, no_of_digits)\n",
    "\n",
    "if num == result:\n",
    "    print(f'{num} is Armstrong number!')\n",
    "else:\n",
    "    print(f'{num} is not Armstrong number!')"
   ]
  },
  {
   "cell_type": "code",
   "execution_count": 1,
   "metadata": {},
   "outputs": [
    {
     "name": "stdout",
     "output_type": "stream",
     "text": [
      "588 minutes and 0 seconds\n"
     ]
    }
   ],
   "source": [
    "# wash your hands\n",
    "def wash_hands(N, nM):\n",
    "    days_in_month = 30\n",
    "    total_time = N * 21 * nM * days_in_month\n",
    "    # convert time into minutes and seconds\n",
    "    minutes = total_time // 60\n",
    "    seconds = total_time % 60\n",
    "\n",
    "    return f'{minutes} minutes and {seconds} seconds'\n",
    "\n",
    "# take input\n",
    "time = wash_hands(8, 7)\n",
    "print(time)\n"
   ]
  },
  {
   "cell_type": "code",
   "execution_count": 9,
   "metadata": {},
   "outputs": [
    {
     "name": "stdout",
     "output_type": "stream",
     "text": [
      "[3, 4, 5, 2, 1]\n",
      "[1, 2, 3, 4, 5]\n"
     ]
    }
   ],
   "source": [
    "# selection sort\n",
    "\n",
    "arr = [3, 4, 5, 2, 1]\n",
    "print(arr)\n",
    "\n",
    "for i in range(len(arr)):\n",
    "    min_index = i\n",
    "    for j in range(i+1, len(arr)):\n",
    "        if arr[j] < arr[min_index]:\n",
    "            min_index = j\n",
    "\n",
    "    arr[i], arr[min_index] = arr[min_index], arr[i]\n",
    "\n",
    "print(arr)"
   ]
  },
  {
   "cell_type": "code",
   "execution_count": 3,
   "metadata": {},
   "outputs": [
    {
     "name": "stdout",
     "output_type": "stream",
     "text": [
      "5\n",
      "This is a Curzon number!\n"
     ]
    }
   ],
   "source": [
    "num = int(input('enter your number:- ')) \n",
    "print(num)\n",
    "\n",
    "if num < 0:\n",
    "    raise ValueError(\"Number must be non-negative.\")\n",
    "\n",
    "if (2**num + 1) % (2 * num + 1) == 0:\n",
    "    print('This is a Curzon number!')\n",
    "else:\n",
    "    print('This is not a Curzon number!')"
   ]
  },
  {
   "cell_type": "code",
   "execution_count": 3,
   "metadata": {},
   "outputs": [
    {
     "name": "stdout",
     "output_type": "stream",
     "text": [
      "243\n",
      "True\n"
     ]
    }
   ],
   "source": [
    "'''\n",
    "Example:  parity_analysis(243) then True because 2+4+3=9 which is odd and 243 is also odd\n",
    "                 parity_analysis(12) then False because 1+2=3 which is odd and 12 is even\n",
    "                 parity_analysis(3) then True because its a single number\n",
    "'''\n",
    "\n",
    "\n",
    "def calculate_sum(num):\n",
    "    sum_of_digit = 0\n",
    "    while num != 0:\n",
    "        rem = num % 10\n",
    "        sum_of_digit += rem\n",
    "        num = num / 10\n",
    "    \n",
    "    return sum_of_digit\n",
    "\n",
    "\n",
    "\n",
    "num = int(input(\"enter your number:- \"))\n",
    "print(num)\n",
    "\n",
    "if num > 0 and num < 9:\n",
    "    print('its a single number!')\n",
    "else:\n",
    "    if ( num % 2 == 0 and calculate_sum(num) % 2 == 0 ) or ( num % 2 != 0 and calculate_sum(num) % 2 != 0):\n",
    "        print('True')\n",
    "    else:\n",
    "        print('False')"
   ]
  },
  {
   "cell_type": "code",
   "execution_count": 1,
   "metadata": {},
   "outputs": [
    {
     "name": "stdout",
     "output_type": "stream",
     "text": [
      "My current mood: :)\n",
      "I was hungry at 1 am 8)\n",
      "Stay positive! ;)\n"
     ]
    }
   ],
   "source": [
    "def make_happy(sentence):\n",
    "\n",
    "    conversion = [(':(', ':)'), ('8(', '8)'), ('x(', 'x)'), (';(', ';)')]\n",
    "\n",
    "    for sad, happy in conversion:\n",
    "        sentence = sentence.replace(sad, happy)\n",
    "    \n",
    "    return sentence\n",
    "\n",
    "# examples\n",
    "print(make_happy(\"My current mood :(\"))  \n",
    "print(make_happy(\"I was hungry at 1am 8(\")) \n",
    "print(make_happy(\"Stay positive! ;(\"))  \n"
   ]
  }
 ],
 "metadata": {
  "kernelspec": {
   "display_name": "Python 3",
   "language": "python",
   "name": "python3"
  },
  "language_info": {
   "codemirror_mode": {
    "name": "ipython",
    "version": 3
   },
   "file_extension": ".py",
   "mimetype": "text/x-python",
   "name": "python",
   "nbconvert_exporter": "python",
   "pygments_lexer": "ipython3",
   "version": "3.11.5"
  }
 },
 "nbformat": 4,
 "nbformat_minor": 2
}
