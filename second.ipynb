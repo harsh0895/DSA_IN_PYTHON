{
 "cells": [
  {
   "cell_type": "markdown",
   "metadata": {},
   "source": [
    "# My First Notebook"
   ]
  },
  {
   "cell_type": "code",
   "execution_count": 1,
   "metadata": {},
   "outputs": [
    {
     "name": "stdout",
     "output_type": "stream",
     "text": [
      "hello world.......\n"
     ]
    }
   ],
   "source": [
    "print(\"hello world.......\")"
   ]
  },
  {
   "cell_type": "code",
   "execution_count": 2,
   "metadata": {},
   "outputs": [
    {
     "name": "stdout",
     "output_type": "stream",
     "text": [
      "factorial of 5 is: 120\n"
     ]
    }
   ],
   "source": [
    "num = 5\n",
    "factorial = 1\n",
    "for i in range(1, num+1):\n",
    "    factorial = factorial * i\n",
    "\n",
    "print(f\"factorial of {num} is: {factorial}\")"
   ]
  },
  {
   "cell_type": "code",
   "execution_count": 1,
   "metadata": {},
   "outputs": [
    {
     "name": "stdout",
     "output_type": "stream",
     "text": [
      "(1, 2, 3, 4, 5)\n",
      "<class 'tuple'>\n"
     ]
    }
   ],
   "source": [
    "# def square(number):\n",
    "#     sq = number ** 2\n",
    "#     add = number + 2\n",
    "#     return sq, add\n",
    "\n",
    "# result = square(4)\n",
    "# print(result)\n",
    "\n",
    "a = 1,2,3,4,5\n",
    "print(a)\n",
    "print(type(a))\n"
   ]
  },
  {
   "cell_type": "code",
   "execution_count": 5,
   "metadata": {},
   "outputs": [
    {
     "name": "stdout",
     "output_type": "stream",
     "text": [
      "50\n"
     ]
    },
    {
     "data": {
      "text/plain": [
       "43"
      ]
     },
     "execution_count": 5,
     "metadata": {},
     "output_type": "execute_result"
    }
   ],
   "source": [
    "# numbers methods in python:-\n",
    "\n",
    "import math\n",
    "\n",
    "print(abs(-50))\n",
    "math.ceil(43.50)\n",
    "math.floor(43.1)    \n"
   ]
  },
  {
   "cell_type": "code",
   "execution_count": 5,
   "metadata": {},
   "outputs": [
    {
     "name": "stdout",
     "output_type": "stream",
     "text": [
      "the count of letters are 8 and the count of digits are 6\n"
     ]
    }
   ],
   "source": [
    "user_input = 'Complere123456'\n",
    "\n",
    "letter_count = 0\n",
    "number_count = 0\n",
    "\n",
    "for char in  user_input:\n",
    "    if (char >= 'a' and char <='z') or  (char >= 'A' and char <='Z'):\n",
    "      letter_count += 1\n",
    "    elif char >= '1' and char <= '9':\n",
    "       number_count += 1\n",
    "\n",
    "print(f'the count of letters are {letter_count} and the count of digits are {number_count}')"
   ]
  },
  {
   "cell_type": "code",
   "execution_count": 1,
   "metadata": {},
   "outputs": [
    {
     "name": "stdout",
     "output_type": "stream",
     "text": [
      "Welcome to the Number Guessing Game!\n",
      "I'm thinking of a number between 1 and 100. Can you guess it?\n",
      "enter smaller number!\n",
      "enter smaller number!\n",
      "enter smaller number!\n",
      "enter smaller number!\n",
      "enter smaller number!\n",
      "enter greater number!\n",
      "enter greater number!\n",
      "Congratulations! You guessed 7 times and correct number is: 28\n",
      "Thanks for playing!\n"
     ]
    }
   ],
   "source": [
    "# number guessing game:-\n",
    "\n",
    "import random\n",
    "\n",
    "correct_number = random.randint(1, 100)\n",
    "\n",
    "print(\"Welcome to the Number Guessing Game!\")\n",
    "print(\"I'm thinking of a number between 1 and 100. Can you guess it?\")\n",
    "\n",
    "user_guess = None\n",
    "total_guess = 0\n",
    "\n",
    "while user_guess != correct_number:\n",
    "    user_guess = int(input('enter your number: '))\n",
    "\n",
    "    if user_guess < correct_number:\n",
    "        print('enter greater number!')\n",
    "        total_guess += 1\n",
    "    elif user_guess > correct_number:\n",
    "        print('enter smaller number!')\n",
    "        total_guess += 1\n",
    "    else:\n",
    "        print(f'Congratulations! You guessed {total_guess} times and correct number is: {correct_number}')\n",
    "\n",
    "print('Thanks for playing!')"
   ]
  },
  {
   "cell_type": "code",
   "execution_count": 5,
   "metadata": {},
   "outputs": [
    {
     "name": "stdout",
     "output_type": "stream",
     "text": [
      "It will take approximately 39 days to reach zero active cases.\n"
     ]
    }
   ],
   "source": [
    "\n",
    "\n",
    "import math\n",
    "\n",
    "def calculate_days_to_zero(new_cases, active_cases, recover_cases):\n",
    "    \n",
    "    if recover_cases <= new_cases:\n",
    "        return \"Recovery cases must be greater than new cases!\"\n",
    "\n",
    "    # Calculate the net reduction in cases per day\n",
    "    daily_reduction = recover_cases - new_cases\n",
    "\n",
    "    # Calculate the number of days to reach zero active cases\n",
    "    days_to_zero = active_cases / daily_reduction\n",
    "\n",
    "    # Round up to the nearest whole number\n",
    "    days_to_zero = math.ceil(days_to_zero)\n",
    "\n",
    "    return days_to_zero\n",
    "\n",
    "def result():\n",
    "    try:\n",
    "       \n",
    "        new_cases = int(input(\"Enter the number of new cases: \"))\n",
    "        active_cases = int(input(\"Enter the number of active cases: \"))\n",
    "        recover_cases = int(input(\"Enter the number of recover cases: \"))\n",
    "\n",
    "        # Calculate the days to reach zero cases\n",
    "        result = calculate_days_to_zero(new_cases, active_cases, recover_cases)\n",
    "\n",
    "        # Print the result\n",
    "        print(f\"It will take approximately {result} days to reach zero active cases.\")\n",
    "\n",
    "    except ValueError:\n",
    "        print(\"Please enter valid integers for all inputs.\")\n",
    "\n",
    "result()"
   ]
  },
  {
   "cell_type": "code",
   "execution_count": null,
   "metadata": {},
   "outputs": [],
   "source": []
  }
 ],
 "metadata": {
  "kernelspec": {
   "display_name": "Python 3",
   "language": "python",
   "name": "python3"
  },
  "language_info": {
   "codemirror_mode": {
    "name": "ipython",
    "version": 3
   },
   "file_extension": ".py",
   "mimetype": "text/x-python",
   "name": "python",
   "nbconvert_exporter": "python",
   "pygments_lexer": "ipython3",
   "version": "3.11.5"
  }
 },
 "nbformat": 4,
 "nbformat_minor": 2
}
