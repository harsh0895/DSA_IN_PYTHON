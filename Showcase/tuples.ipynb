{
 "cells": [
  {
   "cell_type": "code",
   "execution_count": null,
   "metadata": {},
   "outputs": [],
   "source": [
    "# tuples in python:-\n",
    "'''\n",
    "1. what is tuples in python and why we use it.\n",
    "2. how to create a tuples.\n",
    "3. print tuples using for loop.\n",
    "4. slicing in tuples.\n",
    "5. methods of tuples.\n",
    "'''"
   ]
  },
  {
   "cell_type": "code",
   "execution_count": 8,
   "metadata": {},
   "outputs": [
    {
     "name": "stdout",
     "output_type": "stream",
     "text": [
      "(1, 2, 3, 4)\n",
      "<class 'tuple'>\n",
      "(5,)\n",
      "1234"
     ]
    }
   ],
   "source": [
    "# how to create a tuples:-\n",
    "\n",
    "tp = (1, 2, 3, 4)\n",
    "print(tp)\n",
    "\n",
    "# create a tuple with single element:-\n",
    "t = (5,)\n",
    "print(type(t))\n",
    "print(t)\n",
    "\n",
    "# print tuples using for loop.\n",
    "for item in tp:\n",
    "    print(item, end='')\n",
    "\n",
    "\n"
   ]
  },
  {
   "cell_type": "code",
   "execution_count": 14,
   "metadata": {},
   "outputs": [
    {
     "name": "stdout",
     "output_type": "stream",
     "text": [
      "(1, 2, 3, 4)\n",
      "(2, 3)\n",
      "20 appears 3 times\n",
      "First occurrence of 20 is at index 1\n"
     ]
    }
   ],
   "source": [
    "# slicing in tuples:-\n",
    "\n",
    "print(tp[0: ])\n",
    "print(tp[1:3])\n",
    "\n",
    "\n",
    "# methods of tuples:-\n",
    "\n",
    "my_tuple = (10, 20, 30, 20, 40, 20)\n",
    "\n",
    "# Counting how many times 20 appears\n",
    "count_20 = my_tuple.count(20)\n",
    "print(f\"20 appears {count_20} times\")  # Output: 20 appears 3 times\n",
    "\n",
    "# Finding the first occurrence of 20\n",
    "index_20 = my_tuple.index(20)\n",
    "print(f\"First occurrence of 20 is at index {index_20}\")  # Output: First occurrence of 20 is at index 1\n",
    "\n",
    "'''\n",
    "--> Why Limited Methods in tuple?\n",
    "1. Tuples are designed to be immutable, meaning they cannot be changed after they are created.\n",
    "2. The focus with tuples is on accessing and utilizing their contents rather than modifying them. \n",
    "'''\n",
    "\n"
   ]
  }
 ],
 "metadata": {
  "kernelspec": {
   "display_name": "Python 3",
   "language": "python",
   "name": "python3"
  },
  "language_info": {
   "codemirror_mode": {
    "name": "ipython",
    "version": 3
   },
   "file_extension": ".py",
   "mimetype": "text/x-python",
   "name": "python",
   "nbconvert_exporter": "python",
   "pygments_lexer": "ipython3",
   "version": "3.11.5"
  }
 },
 "nbformat": 4,
 "nbformat_minor": 2
}
