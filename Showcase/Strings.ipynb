{
 "cells": [
  {
   "cell_type": "code",
   "execution_count": null,
   "metadata": {},
   "outputs": [],
   "source": [
    "# Strings in python:-\n",
    "'''\n",
    "1. what is strings in python and why we use strings in python.\n",
    "2. how to create strings.\n",
    "3. print string using for loop.\n",
    "4. slicing in strings.\n",
    "5. method of strings in python.\n",
    "'''"
   ]
  },
  {
   "cell_type": "code",
   "execution_count": 3,
   "metadata": {},
   "outputs": [
    {
     "name": "stdout",
     "output_type": "stream",
     "text": [
      "complere\n",
      "complere\n",
      "complere\n",
      "complere"
     ]
    }
   ],
   "source": [
    "# how to create a string:-\n",
    "\n",
    "s1 = 'complere'\n",
    "s2 = \"complere\"\n",
    "s3 = '''complere'''\n",
    "\n",
    "print(s1)\n",
    "print(s2)\n",
    "print(s3)\n",
    "\n",
    "for char in s1:\n",
    "    print(char, end='')\n"
   ]
  },
  {
   "cell_type": "code",
   "execution_count": 17,
   "metadata": {},
   "outputs": [
    {
     "name": "stdout",
     "output_type": "stream",
     "text": [
      "c\n",
      "com\n",
      "plere\n",
      "compler\n",
      "complere\n",
      "erelpmoc\n",
      "complere\n"
     ]
    }
   ],
   "source": [
    "# slicing in strings:-\n",
    "\n",
    "s = 'complere'\n",
    "\n",
    "print(s[0]) # print only 0th index character this is known as indexes\n",
    "print(s[0: 3]) # start from 0 to 2\n",
    "print(s[3: ]) # start from 3 to end index of the string\n",
    "print(s[ :-1]) # start from 0 to -1\n",
    "print(s[-8: ]) # start from -8 to end index\n",
    "print(s[ ::-1]) # Start at the end of the string and move backwards with a step of -1.\n",
    "print(s[:]) # start from first to last"
   ]
  },
  {
   "cell_type": "code",
   "execution_count": 26,
   "metadata": {},
   "outputs": [
    {
     "name": "stdout",
     "output_type": "stream",
     "text": [
      "Complere companyv\n",
      "Complere hompanyv\n",
      "17\n",
      "COMPLERE COMPANYV\n",
      "complere companyv\n",
      "cOMPLERE COMPANYV\n",
      "Complere companyv\n",
      "Complere Companyv\n",
      "['Complere', 'companyv']\n",
      "Complere companyv\n"
     ]
    }
   ],
   "source": [
    "\n",
    "# methods of strings in python and why string is mutable:-\n",
    "\n",
    "name = 'Complere companyv'\n",
    "\n",
    "newstr = name.replace('c', 'h')\n",
    "print(name) # here you can see that the original string won't be change\n",
    "print(newstr) # i am string a new string in new variable\n",
    "\n",
    "print(len(name))\n",
    "print(name.upper())\n",
    "print(name.lower())\n",
    "print(name.swapcase())\n",
    "print(name.capitalize())\n",
    "print(name.title())\n",
    "print(name.split())\n",
    "print(''.join(name))\n",
    "\n"
   ]
  },
  {
   "cell_type": "code",
   "execution_count": null,
   "metadata": {},
   "outputs": [],
   "source": []
  }
 ],
 "metadata": {
  "kernelspec": {
   "display_name": "Python 3",
   "language": "python",
   "name": "python3"
  },
  "language_info": {
   "codemirror_mode": {
    "name": "ipython",
    "version": 3
   },
   "file_extension": ".py",
   "mimetype": "text/x-python",
   "name": "python",
   "nbconvert_exporter": "python",
   "pygments_lexer": "ipython3",
   "version": "3.11.5"
  }
 },
 "nbformat": 4,
 "nbformat_minor": 2
}
