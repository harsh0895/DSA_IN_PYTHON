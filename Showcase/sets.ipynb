{
 "cells": [
  {
   "cell_type": "code",
   "execution_count": null,
   "metadata": {},
   "outputs": [],
   "source": [
    "# sets in python:-\n",
    "'''\n",
    "1. what is sets in python and why we use it.\n",
    "2. how to create a sets.\n",
    "3. print sets using for loop.\n",
    "4. slicing in sets.\n",
    "5. methods of sets.\n",
    "'''"
   ]
  },
  {
   "cell_type": "code",
   "execution_count": null,
   "metadata": {},
   "outputs": [],
   "source": [
    "# how to create a sets.\n",
    "setone = { 1, 2, 3, 4 }\n",
    "print(setone)\n",
    "\n",
    "# print sets using for loop.\n",
    "\n",
    "for i in setone:\n",
    "    print(i)\n",
    "\n",
    "settwo = { 1, 3 }\n",
    "print(settwo)\n",
    "\n",
    "intersection = setone & settwo\n",
    "print(intersection)\n",
    "\n",
    "union = setone | settwo\n",
    "print(union)\n",
    "\n",
    "emptySet = set()\n",
    "print(emptySet)\n",
    "print(type(emptySet))\n",
    "\n",
    "minus = setone - settwo\n",
    "print(minus)"
   ]
  }
 ],
 "metadata": {
  "kernelspec": {
   "display_name": "Python 3",
   "language": "python",
   "name": "python3"
  },
  "language_info": {
   "codemirror_mode": {
    "name": "ipython",
    "version": 3
   },
   "file_extension": ".py",
   "mimetype": "text/x-python",
   "name": "python",
   "nbconvert_exporter": "python",
   "pygments_lexer": "ipython3",
   "version": "3.11.5"
  }
 },
 "nbformat": 4,
 "nbformat_minor": 2
}
