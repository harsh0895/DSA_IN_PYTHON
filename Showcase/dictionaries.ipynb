{
 "cells": [
  {
   "cell_type": "code",
   "execution_count": null,
   "metadata": {},
   "outputs": [],
   "source": [
    "# dictionaries in python:-\n",
    "'''\n",
    "1. what is dictionaries in python and why we use it.\n",
    "2. how to create a dictionaries.\n",
    "3. print dictionaries using for loop.\n",
    "4. slicing in dictionaries.\n",
    "5. methods of dictionaries.\n",
    "'''"
   ]
  },
  {
   "cell_type": "code",
   "execution_count": null,
   "metadata": {},
   "outputs": [],
   "source": [
    "#  how to create a dictionaries:-\n",
    "marks = {\n",
    "    \"student1\": 50,\n",
    "    \"harsh\": 40\n",
    "}\n",
    "\n",
    "print(marks)\n",
    "print(type(marks))\n",
    "\n",
    "# print using for loop:-\n",
    "\n",
    "for key, value in marks.items():\n",
    "    print(f\"key: {key}: values: {value},\")\n",
    "\n",
    "print(marks[\"student1\"])\n",
    "print(marks[\"harsh\"])\n",
    "\n",
    "print(marks.keys())\n",
    "print(marks.items())\n",
    "print(marks.values())\n",
    "\n",
    "marks.update({\"aman\": 99})\n",
    "print(marks)\n",
    "\n",
    "marks.get(\"harsh\") # print none if the key would not match\n",
    "marks[\"harsh\"] # give error if the key doesn't exists\n",
    "print(marks)"
   ]
  }
 ],
 "metadata": {
  "kernelspec": {
   "display_name": "Python 3",
   "language": "python",
   "name": "python3"
  },
  "language_info": {
   "codemirror_mode": {
    "name": "ipython",
    "version": 3
   },
   "file_extension": ".py",
   "mimetype": "text/x-python",
   "name": "python",
   "nbconvert_exporter": "python",
   "pygments_lexer": "ipython3",
   "version": "3.11.5"
  }
 },
 "nbformat": 4,
 "nbformat_minor": 2
}
