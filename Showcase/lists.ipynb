{
 "cells": [
  {
   "cell_type": "code",
   "execution_count": null,
   "metadata": {},
   "outputs": [],
   "source": [
    "# lists in python:-\n",
    "'''\n",
    "1. what is list in python and why we use it.\n",
    "2. how to create a list.\n",
    "3. print list using for loop.\n",
    "4. slicing in list.\n",
    "5. methods of list.\n",
    "'''\n"
   ]
  },
  {
   "cell_type": "code",
   "execution_count": 1,
   "metadata": {},
   "outputs": [
    {
     "name": "stdout",
     "output_type": "stream",
     "text": [
      "[1, 2, 3, 4, 5, 6]\n",
      "123456"
     ]
    }
   ],
   "source": [
    "# how to create a list.\n",
    "\n",
    "ls = [ 1, 2, 3, 4, 5, 6]\n",
    "print(ls)\n",
    "\n",
    "# print list using for loop.\n",
    "\n",
    "for item in ls:\n",
    "    print(item, end='')\n"
   ]
  },
  {
   "cell_type": "code",
   "execution_count": 2,
   "metadata": {},
   "outputs": [
    {
     "name": "stdout",
     "output_type": "stream",
     "text": [
      "[1, 2, 3, 4, 5, 6]\n",
      "[1, 2, 3, 4, 5, 6]\n",
      "1\n",
      "[1, 2, 3]\n",
      "[4, 5, 6]\n",
      "[1, 2, 3, 4, 5]\n",
      "[1, 2, 3, 4, 5, 6]\n",
      "[1, 2, 3, 4, 5, 6]\n"
     ]
    }
   ],
   "source": [
    "# slicing in list:-\n",
    "\n",
    "print(ls)\n",
    "print(ls[0 : ]) # start from 0 index to end\n",
    "print(ls[0]) # print only 0th index character this is known as indexes\n",
    "print(ls[0: 3]) # start from 0 to 2\n",
    "print(ls[3 : ]) # start from 3 to end index of the list\n",
    "print(ls[ : -1]) # start from 0 to -1\n",
    "print(ls[-8: ]) # start from -8 to end index\n",
    "\n",
    "print(ls[:]) # start from first to last\n"
   ]
  },
  {
   "cell_type": "code",
   "execution_count": 8,
   "metadata": {},
   "outputs": [
    {
     "name": "stdout",
     "output_type": "stream",
     "text": [
      "[1, 2, 3, 4, 5, 6]\n",
      "[1, 2, 5]\n",
      "[1, 'c', 'o', 'm', 'p', 'l', 'e', 'r', 'e', 5]\n",
      "[1, 'complere', 'o', 'm', 'p', 'l', 'e', 'r', 'e', 5]\n"
     ]
    }
   ],
   "source": [
    "# methods of list:-\n",
    "\n",
    "# add a element\n",
    "ls2 = [1,2,3,4]\n",
    "ls2.append(5)\n",
    "ls2.insert(2, 6)\n",
    "ls2.sort()\n",
    "print(ls2)\n",
    "\n",
    "# # remove a element\n",
    "ls2.pop()\n",
    "ls2.pop(2) # it will delete the 2nd index value from the list!\n",
    "ls2.remove(4) # it will remove on the basis of value\n",
    "print(ls2)\n",
    "\n",
    "\n",
    "# # update a list:-\n",
    "\n",
    "# ls2[0] = 'harsh'\n",
    "# print(ls2)\n",
    "\n",
    "ls2[1: 2] = 'complere'\n",
    "print(ls2) \n",
    "\n",
    "ls2[1: 2] = ['complere']\n",
    "print(ls2)\n",
    "\n",
    "ls2.reverse()\n",
    "# print(ls2)\n"
   ]
  },
  {
   "cell_type": "code",
   "execution_count": null,
   "metadata": {},
   "outputs": [],
   "source": []
  }
 ],
 "metadata": {
  "kernelspec": {
   "display_name": "Python 3",
   "language": "python",
   "name": "python3"
  },
  "language_info": {
   "codemirror_mode": {
    "name": "ipython",
    "version": 3
   },
   "file_extension": ".py",
   "mimetype": "text/x-python",
   "name": "python",
   "nbconvert_exporter": "python",
   "pygments_lexer": "ipython3",
   "version": "3.11.5"
  }
 },
 "nbformat": 4,
 "nbformat_minor": 2
}
