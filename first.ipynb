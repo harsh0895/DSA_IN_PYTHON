{
 "cells": [
  {
   "cell_type": "code",
   "execution_count": 7,
   "metadata": {},
   "outputs": [
    {
     "name": "stdout",
     "output_type": "stream",
     "text": [
      "             one      two          three                                  four\n",
      "0.0  1    yogita   ambala            DBA  b5966880-9925-4c24-9ea5-c0decf42c0e6\n",
      "1.0  2   sandeep   ambala            DBA  21057cfb-ef39-4161-a1c2-2f03265117c5\n",
      "2.0  3      atul   ambala            DBA  b6789f32-cbe3-47e8-9f46-2164375340d4\n",
      "3.0  4      raja   mohali     Developers  17fb3a5d-73bb-4350-b99d-0cdbb8fdfe56\n",
      "4.0  5   shubham      chd     Developers  e50d7922-6314-4f35-9754-48e38c0aaf5a\n",
      "5.0  6     robin       uk     Developers  ecbe3701-9b2b-4e6c-b5a1-57de6c6b3cc8\n",
      "6.0  7     rohit    cantt       Managers  c9de4ee2-12f4-4ff2-8410-b4191d8dabf7\n",
      "7.0  8     sunil  haryana       Managers  307098cb-0536-497a-88c4-c3376b51124a\n",
      "8.0  9       ram   shimla       Managers  bd0c9a34-0306-4323-809b-098499620e56\n",
      "9.0  10    mohan    bihar  TestEngineers  6cff8273-8d53-45ce-af03-b8298b959b04\n",
      "10.0 11    shaym      goa  TestEngineers  f7cce1aa-c144-4d49-88b2-5f6f8dc8a2c6\n",
      "11.0 12    ankit   punjab  TestEngineers  b52c7bd2-1249-4b82-b384-e28020f417ae\n"
     ]
    }
   ],
   "source": [
    "import pandas as pd\n",
    "from pandas import Series, DataFrame\n",
    "\n",
    "# how to read scv file\n",
    "df = pd.read_csv('Employees.csv')\n",
    "df = pd.read_csv('emp.csc', header = None) # it doesn't count to the first row as a columnn of the dataframe\n",
    "df = pd.read_csv('Employees.csv', names=['one', 'two', 'three', 'four']) # it will create a columns [one two three four]\n",
    "print(df.iloc[1:])"
   ]
  },
  {
   "cell_type": "code",
   "execution_count": null,
   "metadata": {},
   "outputs": [],
   "source": [
    "\n"
   ]
  }
 ],
 "metadata": {
  "kernelspec": {
   "display_name": "Python 3",
   "language": "python",
   "name": "python3"
  },
  "language_info": {
   "codemirror_mode": {
    "name": "ipython",
    "version": 3
   },
   "file_extension": ".py",
   "mimetype": "text/x-python",
   "name": "python",
   "nbconvert_exporter": "python",
   "pygments_lexer": "ipython3",
   "version": "3.11.5"
  }
 },
 "nbformat": 4,
 "nbformat_minor": 2
}
