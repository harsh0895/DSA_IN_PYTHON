{
 "cells": [
  {
   "cell_type": "code",
   "execution_count": 1,
   "metadata": {},
   "outputs": [],
   "source": [
    "# Strings practice questions:-\n",
    "'''\n",
    "1. creating a string\n",
    "2. print string using for loop\n",
    "3. find length() of string\n",
    "4. convert uppercase and lower case to the string\n",
    "5. convert uppercase in small letter and small letter into uppercase.\n",
    "'''\n",
    "\n",
    " "
   ]
  },
  {
   "cell_type": "code",
   "execution_count": 1,
   "metadata": {},
   "outputs": [
    {
     "name": "stdout",
     "output_type": "stream",
     "text": [
      "hello world\n",
      "hello world"
     ]
    }
   ],
   "source": [
    "str1 = \"hello world\"\n",
    "print(str1)\n",
    "\n",
    "for char in str1:\n",
    "    print(char, end='')"
   ]
  },
  {
   "cell_type": "code",
   "execution_count": 5,
   "metadata": {},
   "outputs": [
    {
     "name": "stdout",
     "output_type": "stream",
     "text": [
      "Length of hello world is: 11\n"
     ]
    }
   ],
   "source": [
    "str1 = \"hello world\"\n",
    "length = len(str1)\n",
    "print(f'Length of {str1} is: {length}')"
   ]
  },
  {
   "cell_type": "code",
   "execution_count": 9,
   "metadata": {},
   "outputs": [
    {
     "name": "stdout",
     "output_type": "stream",
     "text": [
      "HARSH BHOLA\n",
      "harsh bhola\n",
      "hARSH bHOLA\n"
     ]
    }
   ],
   "source": [
    "str2 = 'Harsh Bhola'\n",
    "ans = str2.upper() # convert uppercase to the string.\n",
    "lower = str2.lower() # lower case to the string.\n",
    "uL = str2.swapcase() # convert uppcase letter into small and small letter into uppercase.\n",
    "\n",
    "\n",
    "print(ans)\n",
    "print(lower)\n",
    "print(uL)"
   ]
  },
  {
   "cell_type": "code",
   "execution_count": 14,
   "metadata": {},
   "outputs": [
    {
     "name": "stdout",
     "output_type": "stream",
     "text": [
      "{1, 2, 3}\n",
      "The strings 'orwld' and 'woorld' are balanced.\n"
     ]
    }
   ],
   "source": [
    "def is_substring(s1, s2):\n",
    "    s1_set = set(s1)\n",
    "    s2_set = set(s2)\n",
    "\n",
    "    return s1_set.issubset(s2_set)\n",
    "\n",
    "s1 = 'orwld'\n",
    "s2 = 'woorld'\n",
    "\n",
    "if is_substring():\n",
    "    print(f\"The strings '{s1}' and '{s2}' are balanced.\")\n",
    "else:\n",
    "    print(f\"The strings '{s1}' and '{s2}' are not balanced.\")"
   ]
  },
  {
   "cell_type": "code",
   "execution_count": 38,
   "metadata": {},
   "outputs": [
    {
     "name": "stdout",
     "output_type": "stream",
     "text": [
      "['o', 'r']\n",
      "['w', 'o', 'r', 'l', 'd']\n",
      "0 1 0 1 2 \n",
      "['o', 'r']\n",
      "['w', '#', '#', 'l', 'd']\n",
      "String are balanced!\n"
     ]
    }
   ],
   "source": [
    "# write a program to check two strings are balanced or not?\n",
    "\n",
    "s1 = 'or'\n",
    "s2 = 'world'\n",
    "\n",
    "s1_list = list(s1)\n",
    "s2_list = list(s2)\n",
    "print(s1_list)\n",
    "print(s2_list)\n",
    "\n",
    "count_s2_char = 0;\n",
    "\n",
    "# Iterate over characters in s1_list\n",
    "for s1_item in s1_list:\n",
    "    for i, s2_item in enumerate(s2_list):\n",
    "        print(f'{i} ', end='')\n",
    "        if s1_item == s2_item:\n",
    "            s2_list[i] = '#'  # Replace the matched character with '#'\n",
    "            count_s2_char += 1\n",
    "            break\n",
    "\n",
    "print()\n",
    "print(s1_list)\n",
    "print(s2_list)\n",
    "\n",
    "if( len(s1_list) == count_s2_char ):\n",
    "    print('String are balanced!')\n",
    "else:\n",
    "    print('string are not balanced!')\n",
    "\n",
    "\n"
   ]
  },
  {
   "cell_type": "code",
   "execution_count": 36,
   "metadata": {},
   "outputs": [
    {
     "name": "stdout",
     "output_type": "stream",
     "text": [
      "Both are balanced\n"
     ]
    }
   ],
   "source": [
    "def balance(char1, char2):\n",
    "    count = 0\n",
    "    for i in char1:\n",
    "      for j in char2:\n",
    "        if(i == j):\n",
    "            count = count+1\n",
    "            break\n",
    " \n",
    "    if(count == len(char1)):\n",
    "       return \"Both are balanced\"\n",
    "    else:\n",
    "       return \"String is inbalanced\"\n",
    "   \n",
    "char1 = \"prabhatbb\"\n",
    "char2 = \"subhprabhat\"\n",
    "print(balance(char1, char2))"
   ]
  },
  {
   "cell_type": "code",
   "execution_count": 39,
   "metadata": {},
   "outputs": [
    {
     "name": "stdout",
     "output_type": "stream",
     "text": [
      "String is imbalanced\n"
     ]
    }
   ],
   "source": [
    "from collections import Counter\n",
    " \n",
    "def balance(char1, char2):\n",
    "    count1 = Counter(char1)\n",
    "    count2 = Counter(char2)\n",
    "    for char in count1:\n",
    "        if count1[char] > count2.get(char, 0):\n",
    "            return \"String is imbalanced\"\n",
    "    return \"Both are balanced\"\n",
    " \n",
    "char1 = \"prabhatbb\"\n",
    "char2 = \"subhprabhat\"\n",
    "print(balance(char1, char2))"
   ]
  },
  {
   "cell_type": "code",
   "execution_count": 4,
   "metadata": {},
   "outputs": [
    {
     "name": "stdout",
     "output_type": "stream",
     "text": [
      "[1, 3]\n"
     ]
    }
   ],
   "source": [
    "# Write a program to get the intersection of two list.\n",
    "# For example, if A = [1, 2, 3, 4, 5], and B = [0, 1, 3, 7] then you should return [1, 3].\n",
    "\n",
    "A = [1, 2, 3, 4, 5]\n",
    "B = [0, 1, 3, 7]\n",
    "\n",
    "a_set = set(A)\n",
    "b_set = set(B)\n",
    "\n",
    "intersection = list(a_set & b_set)\n",
    "print(intersection)"
   ]
  },
  {
   "cell_type": "code",
   "execution_count": 5,
   "metadata": {},
   "outputs": [
    {
     "name": "stdout",
     "output_type": "stream",
     "text": [
      "Original Text: Hello World\n",
      "Ciphered Text: Svool Dliow\n"
     ]
    }
   ],
   "source": [
    "# atbash(\"Hello world\") ➞ \"Svool dliow\"\n",
    "\n",
    "def atbash( text ):\n",
    "    ciphered_text = []\n",
    "\n",
    "    for char in text:\n",
    "        # for lowercase characters\n",
    "        if char >= 'a' and char <= 'z':\n",
    "            reversed_char = chr(ord('z') - (ord(char) - ord('a')))\n",
    "            ciphered_text.append(reversed_char)\n",
    "        # for uppercase characters\n",
    "        elif char >= 'A' and char <= 'Z':\n",
    "            reversed_char = chr(ord('Z') - (ord(char) - ord('A')))\n",
    "            ciphered_text.append(reversed_char)\n",
    "        # for blank space \n",
    "        else:\n",
    "            ciphered_text.append(char)\n",
    "\n",
    "    return ''.join(ciphered_text)\n",
    "\n",
    "\n",
    "\n",
    "# Test the function\n",
    "input_text = input('Enter your cipher string:- ')\n",
    "output_text = atbash(input_text)\n",
    "print(\"Original Text:\", input_text)\n",
    "print(\"Ciphered Text:\", output_text)"
   ]
  },
  {
   "cell_type": "code",
   "execution_count": 3,
   "metadata": {},
   "outputs": [
    {
     "name": "stdout",
     "output_type": "stream",
     "text": [
      "5 is odd number\n",
      "5 is odd number!\n"
     ]
    }
   ],
   "source": [
    "# large syntax\n",
    "num = 5\n",
    "if num % 2 == 0:\n",
    "    print(f'{num} is even number!')\n",
    "else:\n",
    "    print(f'{num} is odd number')\n",
    "\n",
    "# small syntax\n",
    "print(f'{num} is even' if num % 2 == 0 else f'{num} is odd number!')\n"
   ]
  }
 ],
 "metadata": {
  "kernelspec": {
   "display_name": "Python 3",
   "language": "python",
   "name": "python3"
  },
  "language_info": {
   "codemirror_mode": {
    "name": "ipython",
    "version": 3
   },
   "file_extension": ".py",
   "mimetype": "text/x-python",
   "name": "python",
   "nbconvert_exporter": "python",
   "pygments_lexer": "ipython3",
   "version": "3.11.9"
  }
 },
 "nbformat": 4,
 "nbformat_minor": 2
}
